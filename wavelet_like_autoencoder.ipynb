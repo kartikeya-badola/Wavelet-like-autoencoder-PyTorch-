{
  "nbformat": 4,
  "nbformat_minor": 0,
  "metadata": {
    "colab": {
      "name": "wavelet-like-autoencoder.ipynb",
      "provenance": []
    },
    "kernelspec": {
      "name": "python3",
      "display_name": "Python 3"
    }
  },
  "cells": [
    {
      "cell_type": "code",
      "metadata": {
        "id": "3CheaAGg_4-K",
        "colab_type": "code",
        "colab": {}
      },
      "source": [
        "import torch\n",
        "import torch.nn as nn\n",
        "import torch.optim as optim\n",
        "from torch.optim import lr_scheduler\n",
        "import numpy as np\n",
        "import torchvision\n",
        "from torchvision import datasets, models, transforms\n",
        "import matplotlib.pyplot as plt\n",
        "import time\n",
        "import os\n",
        "import torch.nn.functional as F\n",
        "import copy\n",
        "from sklearn.utils import shuffle"
      ],
      "execution_count": null,
      "outputs": []
    },
    {
      "cell_type": "code",
      "metadata": {
        "id": "LLnWUNpM_7pV",
        "colab_type": "code",
        "colab": {}
      },
      "source": [
        "device = torch.device('cuda' if torch.cuda.is_available() else 'cpu')\n"
      ],
      "execution_count": null,
      "outputs": []
    },
    {
      "cell_type": "code",
      "metadata": {
        "id": "Ji4qOTtE_9Z4",
        "colab_type": "code",
        "colab": {}
      },
      "source": [
        "class base_encoder(nn.Module):\n",
        "  def __init__(self):\n",
        "    super(base_encoder,self).__init__()\n",
        "    self.conv1 = nn.Conv2d(in_channels=3,out_channels=16,kernel_size=3,stride=1,padding=1)\n",
        "    self.conv2 = nn.Conv2d(in_channels=16,out_channels=16,kernel_size=3,stride=1,padding=1)\n",
        "    self.conv3 = nn.Conv2d(in_channels=16,out_channels=16,kernel_size=3,stride=1,padding=1)\n",
        "    self.convsplit1 = nn.Conv2d(in_channels=16,out_channels=3,kernel_size=2,stride=2,padding=0)\n",
        "    self.convsplit2 = nn.Conv2d(in_channels=16,out_channels=3,kernel_size=2,stride=2,padding=0)\n",
        "    self.bn1 = nn.BatchNorm2d(3)\n",
        "    self.bn2 = nn.BatchNorm2d(3)\n",
        "  def forward(self,x):\n",
        "    x = nn.ReLU()(self.conv1(x))\n",
        "    x = nn.ReLU()(self.conv2(x))\n",
        "    x = nn.ReLU()(self.conv3(x))\n",
        "    x1 = nn.Sigmoid()(self.bn1(self.convsplit1(x)))\n",
        "    x2 = nn.Sigmoid()(self.bn2(self.convsplit2(x)))\n",
        "    return (x1,x2)"
      ],
      "execution_count": null,
      "outputs": []
    },
    {
      "cell_type": "code",
      "metadata": {
        "id": "6O9W8nmkAAHL",
        "colab_type": "code",
        "colab": {}
      },
      "source": [
        "class decoder(nn.Module):\n",
        "  def __init__(self):\n",
        "    super(decoder,self).__init__()\n",
        "    self.decoder1 = nn.Sequential(nn.ConvTranspose2d(in_channels=3,out_channels=16,kernel_size=2,stride=2,padding=0),\n",
        "                             nn.ReLU(),\n",
        "                             nn.Conv2d(in_channels=16,out_channels=16,kernel_size=3,stride=1,padding=1),\n",
        "                             nn.ReLU(),\n",
        "                             nn.Conv2d(in_channels=16,out_channels=16,kernel_size=3,stride=1,padding=1),\n",
        "                             nn.ReLU(),\n",
        "                             nn.Conv2d(in_channels=16,out_channels=3,kernel_size=3,stride=1,padding=1),\n",
        "                             nn.BatchNorm2d(3))\n",
        "    self.decoder2 = nn.Sequential(nn.ConvTranspose2d(in_channels=3,out_channels=16,kernel_size=2,stride=2,padding=0),\n",
        "                             nn.ReLU(),\n",
        "                             nn.Conv2d(in_channels=16,out_channels=16,kernel_size=3,stride=1,padding=1),\n",
        "                             nn.ReLU(),\n",
        "                             nn.Conv2d(in_channels=16,out_channels=16,kernel_size=3,stride=1,padding=1),\n",
        "                             nn.ReLU(),\n",
        "                             nn.Conv2d(in_channels=16,out_channels=3,kernel_size=3,stride=1,padding=1),\n",
        "                             nn.BatchNorm2d(3))\n",
        "    \n",
        "  def forward(self,x):\n",
        "    out1 = self.decoder1(x[0])\n",
        "    out2 = self.decoder2(x[1])\n",
        "    return nn.Sigmoid()(out1+out2)\n",
        "    \n",
        "\n"
      ],
      "execution_count": null,
      "outputs": []
    },
    {
      "cell_type": "code",
      "metadata": {
        "id": "MGtkPOisADUS",
        "colab_type": "code",
        "colab": {}
      },
      "source": [
        "def wavelet_loss(x_true,x,x0):\n",
        "  l2 = torch.norm(x0,dim=1)\n",
        "  l2 = torch.mean(l2)\n",
        "  rec = nn.BCELoss()(x,x_true)\n",
        "  return (rec,l2)"
      ],
      "execution_count": null,
      "outputs": []
    }
  ]
}